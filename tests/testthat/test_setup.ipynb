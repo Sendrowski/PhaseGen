{
 "cells": [
  {
   "cell_type": "code",
   "execution_count": 1,
   "id": "5d968773b5cd2c9b",
   "metadata": {
    "ExecuteTime": {
     "end_time": "2024-06-05T11:07:34.200175Z",
     "start_time": "2024-06-05T11:05:51.996615Z"
    }
   },
   "outputs": [
    {
     "name": "stderr",
     "output_type": "stream",
     "text": [
      "Using GitHub PAT from the git credential store.\n",
      "\n",
      "Downloading GitHub repo Sendrowski/PhaseGen@HEAD\n",
      "\n"
     ]
    },
    {
     "name": "stdout",
     "output_type": "stream",
     "text": [
      "\n",
      "\u001b[36m──\u001b[39m \u001b[36mR CMD build\u001b[39m \u001b[36m─────────────────────────────────────────────────────────────────────────────────────────────────────────\u001b[39m\n",
      "\u001b[32m✔\u001b[39m  \u001b[90mchecking for file ‘/private/var/folders/w6/18ktl5312413jw46btlxrh59fzxvt4/T/RtmpnYmMXY/remotes167a077ce0a97/Sendrowski-PhaseGen-98eba04/DESCRIPTION’\u001b[39m\u001b[36m\u001b[39m\n",
      "\u001b[90m─\u001b[39m\u001b[90m  \u001b[39m\u001b[90mpreparing ‘phasegen’:\u001b[39m\u001b[36m\u001b[39m\n",
      "\u001b[32m✔\u001b[39m  \u001b[90mchecking DESCRIPTION meta-information\u001b[39m\u001b[36m\u001b[39m\n",
      "\u001b[90m─\u001b[39m\u001b[90m  \u001b[39m\u001b[90mchecking for LF line-endings in source and make files and shell scripts\u001b[39m\u001b[36m\u001b[39m\n",
      "\u001b[90m─\u001b[39m\u001b[90m  \u001b[39m\u001b[90mchecking for empty or unneeded directories\u001b[39m\u001b[36m\u001b[39m\n",
      "\u001b[90m─\u001b[39m\u001b[90m  \u001b[39m\u001b[90mbuilding ‘phasegen_0.1.0.tar.gz’\u001b[39m\u001b[36m\u001b[39m\n",
      "   Warning in utils::tar(filepath, pkgname, compression = compression, compression_level = 9L,  :\n",
      "     storing paths of more than 100 bytes is not portable:\n",
      "     ‘phasegen/resources/configs/3_epoch_beta_migration_disparate_migration_sizes_2_each_n_6_early_end_time.yaml’\n",
      "   Warning in utils::tar(filepath, pkgname, compression = compression, compression_level = 9L,  :\n",
      "     storing paths of more than 100 bytes is not portable:\n",
      "     ‘phasegen/resources/configs/3_epoch_dirac_migration_disparate_migration_sizes_2_each_n_6_psi_0_7_c_5.yaml’\n",
      "   Warning in utils::tar(filepath, pkgname, compression = compression, compression_level = 9L,  :\n",
      "     storing paths of more than 100 bytes is not portable:\n",
      "     ‘phasegen/results/comparisons/serialized/3_epoch_beta_migration_disparate_migration_sizes_2_each_n_6.json’\n",
      "   Warning in utils::tar(filepath, pkgname, compression = compression, compression_level = 9L,  :\n",
      "     storing paths of more than 100 bytes is not portable:\n",
      "     ‘phasegen/results/comparisons/serialized/3_epoch_beta_migration_disparate_migration_sizes_2_each_n_6_early_end_time.json’\n",
      "   Warning in utils::tar(filepath, pkgname, compression = compression, compression_level = 9L,  :\n",
      "     storing paths of more than 100 bytes is not portable:\n",
      "     ‘phasegen/results/comparisons/serialized/3_epoch_beta_migration_disparate_migration_sizes_2_each_n_6_large_N.json’\n",
      "   Warning in utils::tar(filepath, pkgname, compression = compression, compression_level = 9L,  :\n",
      "     storing paths of more than 100 bytes is not portable:\n",
      "     ‘phasegen/results/comparisons/serialized/3_epoch_dirac_migration_disparate_migration_sizes_2_each_n_6_psi_0_7_c_5.json’\n",
      "   Warning: invalid uid value replaced by that for user 'nobody'\n",
      "   \n",
      "\r"
     ]
    },
    {
     "name": "stderr",
     "output_type": "stream",
     "text": [
      "+ /Users/au732936/miniforge-pypy3/bin/mamba install --yes --prefix /Users/au732936/miniforge-pypy3/envs/r-phasegen 'python=3.11' -c conda-forge\n",
      "\n"
     ]
    }
   ],
   "source": [
    "setwd(\"~\")\n",
    "\n",
    "devtools::install_github(\"Sendrowski/PhaseGen\")\n",
    "\n",
    "library(phasegen)\n",
    "\n",
    "install_phasegen(force = TRUE)\n",
    "\n",
    "pg <- load_phasegen()"
   ]
  },
  {
   "cell_type": "code",
   "execution_count": 2,
   "id": "29632c1809cc9b49",
   "metadata": {
    "ExecuteTime": {
     "end_time": "2024-06-05T11:07:34.229971Z",
     "start_time": "2024-06-05T11:07:34.202665Z"
    }
   },
   "outputs": [
    {
     "data": {
      "text/html": [
       "'/Users/au732936/miniforge-pypy3/envs/r-phasegen/lib/python3.11/site-packages/phasegen/__init__.py'"
      ],
      "text/latex": [
       "'/Users/au732936/miniforge-pypy3/envs/r-phasegen/lib/python3.11/site-packages/phasegen/\\_\\_init\\_\\_.py'"
      ],
      "text/markdown": [
       "'/Users/au732936/miniforge-pypy3/envs/r-phasegen/lib/python3.11/site-packages/phasegen/__init__.py'"
      ],
      "text/plain": [
       "[1] \"/Users/au732936/miniforge-pypy3/envs/r-phasegen/lib/python3.11/site-packages/phasegen/__init__.py\""
      ]
     },
     "metadata": {},
     "output_type": "display_data"
    }
   ],
   "source": [
    "pg$\"__file__\""
   ]
  },
  {
   "cell_type": "code",
   "execution_count": 3,
   "id": "initial_id",
   "metadata": {
    "ExecuteTime": {
     "end_time": "2024-06-05T11:07:34.243071Z",
     "start_time": "2024-06-05T11:07:34.232498Z"
    }
   },
   "outputs": [
    {
     "data": {
      "text/html": [
       "1"
      ],
      "text/latex": [
       "1"
      ],
      "text/markdown": [
       "1"
      ],
      "text/plain": [
       "[1] 1"
      ]
     },
     "metadata": {},
     "output_type": "display_data"
    }
   ],
   "source": [
    "pg$Coalescent(n = 2)$tree_height$mean"
   ]
  }
 ],
 "metadata": {
  "kernelspec": {
   "display_name": "R",
   "language": "R",
   "name": "ir"
  },
  "language_info": {
   "codemirror_mode": "r",
   "file_extension": ".r",
   "mimetype": "text/x-r-source",
   "name": "R",
   "pygments_lexer": "r",
   "version": "4.3.3"
  }
 },
 "nbformat": 4,
 "nbformat_minor": 5
}
