{
 "cells": [
  {
   "cell_type": "markdown",
   "source": [
    "# Inference\n",
    "An introduction to inference with PhaseGen can be found in the {doc}`quickstart` guide."
   ],
   "metadata": {
    "collapsed": false
   }
  },
  {
   "cell_type": "markdown",
   "source": [
    "## Distributed bootstrapping\n",
    "    Whenever running inference with long runtimes, you might want to distribute the bootstrapping process. This can be done by creating bootstrap samples which are {class}`~phasegen.inference.Inference` objects themselves. These bootstraps can be run in parallel and the results combined afterwards. Below an example [Snakemake](https://snakemake.readthedocs.io/en/stable/) workflow for distributed bootstrapping: \n",
    "``Snakefile``:"
   ],
   "metadata": {
    "collapsed": false
   }
  },
  {
   "cell_type": "code",
   "outputs": [],
   "source": [
    "rule all:\n",
    "    input:\n",
    "        \"results/graphs/inference/demography.png\",\n",
    "\n",
    "# setup inference and perform initial run\n",
    "rule setup_inference:\n",
    "    output:\n",
    "        \"results/inference/inference.json\"\n",
    "    conda:\n",
    "        \"phasegen.yaml\"\n",
    "    script:\n",
    "        \"setup_inference.py\"\n",
    "\n",
    "# create and run bootstrap\n",
    "rule run_bootstrap:\n",
    "    input:\n",
    "        \"results/inference/inference.json\"\n",
    "    output:\n",
    "        \"results/inference/bootstraps/{i}/inference.json\"\n",
    "    conda:\n",
    "        \"phasegen.yaml\"\n",
    "    script:\n",
    "        \"run_bootstrap.py\"\n",
    "\n",
    "# merge bootstraps and visualize\n",
    "rule merge_bootstraps:\n",
    "    input:\n",
    "        inference=\"results/inference/inference.json\",\n",
    "        bootstraps=expand(\"results/inference/bootstraps/{i}/inference.json\",i=range(100))\n",
    "    output:\n",
    "        inference=\"results/inference/inference.bootstrapped.json\",\n",
    "        demography=\"results/graphs/inference/demography.png\",\n",
    "        bootstraps=\"results/graphs/inference/bootstraps.png\",\n",
    "    conda:\n",
    "        \"phasegen.yaml\"\n",
    "    script:\n",
    "        \"merge_bootstraps.py\""
   ],
   "metadata": {
    "collapsed": false
   }
  },
  {
   "cell_type": "markdown",
   "source": [
    "where ``phasegen.yaml`` is a conda environment file with the following content:\n",
    "```yaml\n",
    "name: phasegen\n",
    "channels:\n",
    "  - defaults\n",
    "dependencies:\n",
    "  - python>=3.10,<3.13\n",
    "  - pip\n",
    "  - pip:\n",
    "      - phasegen\n",
    "```"
   ],
   "metadata": {
    "collapsed": false
   }
  },
  {
   "cell_type": "markdown",
   "source": [
    "In ``setup_inference.py``, we set up the inference object, perform the initial run and save the results to a file. Note that bootstrapping is disabled by setting ``do_bootstrap=False``."
   ],
   "metadata": {
    "collapsed": false
   }
  },
  {
   "cell_type": "code",
   "outputs": [],
   "source": [
    "import phasegen as pg\n",
    "out = snakemake.output[0]\n",
    "\n",
    "inf = pg.Inference(\n",
    "    bounds=dict(t=(0, 4), Ne=(0.1, 1)),\n",
    "    observation=pg.SFS(\n",
    "        [177130, 997, 441, 228, 156, 117, 114, 83, 105, 109, 652]\n",
    "    ),\n",
    "    coal=lambda t, Ne: pg.Coalescent(\n",
    "        n=10,\n",
    "        demography=pg.Demography(\n",
    "            pop_sizes={'pop_0': {0: 1, t: Ne}}\n",
    "        )\n",
    "    ),\n",
    "    loss=lambda coal, obs: pg.PoissonLikelihood().compute(\n",
    "        observed=obs.normalize().polymorphic,\n",
    "        modelled=coal.sfs.mean.normalize().polymorphic\n",
    "    ),\n",
    "    resample=lambda sfs, _: sfs.resample(),\n",
    "    do_bootstrap=False\n",
    ")\n",
    "\n",
    "inf.run()\n",
    "\n",
    "inf.to_file(out)"
   ],
   "metadata": {
    "collapsed": false
   }
  },
  {
   "cell_type": "markdown",
   "source": [
    "In ``run_bootstrap.py``, we load the inference object from the file, create a bootstrap sample and run the inference for it. This will use the specified resampling function to resample the SFS."
   ],
   "metadata": {
    "collapsed": false
   }
  },
  {
   "cell_type": "code",
   "outputs": [],
   "source": [
    "import phasegen as pg\n",
    "\n",
    "file = snakemake.input[0]\n",
    "out = snakemake.output[0]\n",
    "\n",
    "inf = pg.Inference.from_file(file)\n",
    "\n",
    "bootstrap = inf.create_bootstrap()\n",
    "\n",
    "bootstrap.run()\n",
    "\n",
    "bootstrap.to_file(out)"
   ],
   "metadata": {
    "collapsed": false
   }
  },
  {
   "cell_type": "markdown",
   "source": [
    "In ``merge_bootstraps.py``, we load the inference object and all bootstraps, merge the bootstraps with the main inference object and visualize the results."
   ],
   "metadata": {
    "collapsed": false
   }
  },
  {
   "cell_type": "code",
   "outputs": [],
   "source": [
    "import phasegen as pg\n",
    "\n",
    "inf_file = snakemake.input.inference\n",
    "bootstraps_file = snakemake.input.bootstraps\n",
    "out = snakemake.output.inference\n",
    "out_demography = snakemake.output.demography\n",
    "out_bootstraps = snakemake.output.bootstraps\n",
    "\n",
    "inf = pg.Inference.from_file(inf_file)\n",
    "\n",
    "inf.add_bootstraps([pg.Inference.from_file(f) for f in bootstraps_file])\n",
    "\n",
    "inf.plot_demography(file=out_demography)\n",
    "inf.plot_bootstraps(file=out_bootstraps)\n",
    "\n",
    "inf.to_file(out)"
   ],
   "metadata": {
    "collapsed": false
   }
  }
 ],
 "metadata": {
  "kernelspec": {
   "display_name": "Python 3 (ipykernel)",
   "language": "python",
   "name": "python3"
  },
  "language_info": {
   "codemirror_mode": {
    "name": "ipython",
    "version": 3
   },
   "file_extension": ".py",
   "mimetype": "text/x-python",
   "name": "python",
   "nbconvert_exporter": "python",
   "pygments_lexer": "ipython3",
   "version": "3.10.8"
  }
 },
 "nbformat": 4,
 "nbformat_minor": 1
}
