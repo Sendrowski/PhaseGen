{
 "cells": [
  {
   "cell_type": "markdown",
   "metadata": {
    "collapsed": false,
    "jupyter": {
     "outputs_hidden": false
    }
   },
   "source": [
    "# Using rewards\n",
    "In order to compute more complex moments such as higher order (cross)-moments that are not directly made available as cached properties of {class}`~phasegen.distributions.PhaseTypeDistribution`, we can specify our own rewards. A {class}`~phasegen.rewards.Reward` is a means of *rewarding* or weighting each state so as to obtain the moments of the quantity of interest. Examples of common rewards are {class}`~phasegen.rewards.TreeHeightReward` and {class}`~phasegen.rewards.TotalBranchLengthReward` or {class}`~phasegen.rewards.UnfoldedSFSReward`. We can use {class}`~phasegen.distributions.PhaseTypeDistribution`'s {meth}`~phasegen.distributions.PhaseTypeDistribution.moment`, which requires a *tuple* of rewards to be specified, whose length equals the order of the moment to be computed."
   ]
  },
  {
   "cell_type": "code",
   "metadata": {
    "tags": [
     "remove-cell"
    ],
    "ExecuteTime": {
     "end_time": "2024-06-05T09:14:26.103713Z",
     "start_time": "2024-06-05T09:14:25.777830Z"
    }
   },
   "source": [
    "import matplotlib.pyplot as plt\n",
    "\n",
    "plt.rcParams['figure.figsize'] = [4.4, 3.3]"
   ],
   "outputs": [],
   "execution_count": 1
  },
  {
   "cell_type": "code",
   "metadata": {
    "collapsed": false,
    "jupyter": {
     "outputs_hidden": false
    },
    "ExecuteTime": {
     "end_time": "2024-06-05T09:14:26.783082Z",
     "start_time": "2024-06-05T09:14:26.105857Z"
    }
   },
   "source": [
    "import phasegen as pg\n",
    "\n",
    "coal = pg.Coalescent(n=10)"
   ],
   "outputs": [],
   "execution_count": 2
  },
  {
   "cell_type": "markdown",
   "metadata": {},
   "source": [
    "We can explicitly compute the moments made available as cached properties. Note that {meth}`~phasegen.distributions.PhaseTypeDistribution.moment` provides centered moments by default."
   ]
  },
  {
   "cell_type": "code",
   "metadata": {
    "collapsed": false,
    "jupyter": {
     "outputs_hidden": false
    },
    "ExecuteTime": {
     "end_time": "2024-06-05T09:14:26.794510Z",
     "start_time": "2024-06-05T09:14:26.784112Z"
    }
   },
   "source": [
    "# mean tree height\n",
    "assert coal.tree_height.mean == coal.moment(1, (pg.TreeHeightReward(),))"
   ],
   "outputs": [],
   "execution_count": 3
  },
  {
   "cell_type": "code",
   "metadata": {
    "collapsed": false,
    "jupyter": {
     "outputs_hidden": false
    },
    "ExecuteTime": {
     "end_time": "2024-06-05T09:14:26.801908Z",
     "start_time": "2024-06-05T09:14:26.795978Z"
    }
   },
   "source": [
    "# variance of tree height\n",
    "assert coal.moment(2, (pg.TreeHeightReward(),) * 2) == coal.tree_height.var"
   ],
   "outputs": [],
   "execution_count": 4
  },
  {
   "cell_type": "code",
   "metadata": {
    "collapsed": false,
    "jupyter": {
     "outputs_hidden": false
    },
    "ExecuteTime": {
     "end_time": "2024-06-05T09:14:26.808917Z",
     "start_time": "2024-06-05T09:14:26.804253Z"
    }
   },
   "source": [
    "# second non-central moment of total branch length\n",
    "assert coal.total_branch_length.m2 == coal.moment(2, (pg.TotalBranchLengthReward(),) * 2, center=False)"
   ],
   "outputs": [],
   "execution_count": 5
  },
  {
   "cell_type": "code",
   "metadata": {
    "collapsed": false,
    "jupyter": {
     "outputs_hidden": false
    },
    "ExecuteTime": {
     "end_time": "2024-06-05T09:14:26.839991Z",
     "start_time": "2024-06-05T09:14:26.809911Z"
    }
   },
   "source": [
    "# mean of the 2nd unfolded SFS entry\n",
    "assert coal.sfs.mean.data[2] == coal.moment(1, (pg.UnfoldedSFSReward(2),))"
   ],
   "outputs": [],
   "execution_count": 6
  },
  {
   "cell_type": "markdown",
   "metadata": {
    "collapsed": false,
    "jupyter": {
     "outputs_hidden": false
    }
   },
   "source": [
    "If necessary, we can also compute much higher order (cross)-moments."
   ]
  },
  {
   "cell_type": "code",
   "metadata": {
    "collapsed": false,
    "jupyter": {
     "outputs_hidden": false
    },
    "ExecuteTime": {
     "end_time": "2024-06-05T09:14:26.852210Z",
     "start_time": "2024-06-05T09:14:26.841240Z"
    }
   },
   "source": [
    "# 5th non-central moment of tree height\n",
    "coal.moment(5, (pg.TreeHeightReward(),) * 5)"
   ],
   "outputs": [
    {
     "data": {
      "text/plain": [
       "48.26441927101328"
      ]
     },
     "execution_count": 7,
     "metadata": {},
     "output_type": "execute_result"
    }
   ],
   "execution_count": 7
  },
  {
   "cell_type": "code",
   "metadata": {
    "collapsed": false,
    "jupyter": {
     "outputs_hidden": false
    },
    "ExecuteTime": {
     "end_time": "2024-06-05T09:14:26.948924Z",
     "start_time": "2024-06-05T09:14:26.853023Z"
    }
   },
   "source": [
    "# 3rd non-central moment of 2nd, 3rd and 4th unfolded SFS entries\n",
    "coal.moment(3, (pg.UnfoldedSFSReward(2), pg.UnfoldedSFSReward(3), pg.UnfoldedSFSReward(4)))"
   ],
   "outputs": [
    {
     "data": {
      "text/plain": [
       "0.005538770711106311"
      ]
     },
     "execution_count": 8,
     "metadata": {},
     "output_type": "execute_result"
    }
   ],
   "execution_count": 8
  },
  {
   "cell_type": "markdown",
   "metadata": {
    "collapsed": false,
    "jupyter": {
     "outputs_hidden": false
    }
   },
   "source": [
    "## Combining rewards\n",
    "Sometimes we may want to combine multiple rewards. To this end, we can use {class}`~phasegen.rewards.ProductReward` or {class}`~phasegen.rewards.SumReward`. Let us for example compute the mean SFS over the first 2 out of 3 demes. That is, we weight the branch lengths by the fraction of lineages in the first two demes."
   ]
  },
  {
   "cell_type": "code",
   "metadata": {
    "collapsed": false,
    "jupyter": {
     "outputs_hidden": false
    },
    "ExecuteTime": {
     "end_time": "2024-06-05T09:14:26.954602Z",
     "start_time": "2024-06-05T09:14:26.950520Z"
    }
   },
   "source": [
    "# 3-deme coalescent with symmetric migration\n",
    "coal = pg.Coalescent(\n",
    "    n={'pop_0': 3, 'pop_1': 2, 'pop_2': 0},\n",
    "    demography=pg.Demography(\n",
    "        pop_sizes={'pop_0': 3, 'pop_1': 0.5, 'pop_2': 0.1},\n",
    "        events=[\n",
    "            pg.SymmetricMigrationRateChanges(\n",
    "                pops=['pop_0', 'pop_1', 'pop_2'],\n",
    "                rate=1\n",
    "            )\n",
    "        ]\n",
    "    )\n",
    ")"
   ],
   "outputs": [],
   "execution_count": 9
  },
  {
   "cell_type": "code",
   "metadata": {
    "collapsed": false,
    "jupyter": {
     "outputs_hidden": false
    },
    "ExecuteTime": {
     "end_time": "2024-06-05T09:14:27.182665Z",
     "start_time": "2024-06-05T09:14:26.955729Z"
    }
   },
   "source": [
    "sfs = coal.sfs.moment(1, (pg.SumReward([pg.DemeReward('pop_0'), pg.DemeReward('pop_1')]),))\n",
    "\n",
    "sfs.plot();"
   ],
   "outputs": [
    {
     "data": {
      "text/plain": [
       "<Figure size 440x330 with 0 Axes>"
      ]
     },
     "metadata": {},
     "output_type": "display_data"
    },
    {
     "data": {
      "text/plain": [
       "<Figure size 440x330 with 1 Axes>"
      ],
      "image/png": "[encoded data removed]"
     },
     "metadata": {},
     "output_type": "display_data"
    }
   ],
   "execution_count": 10
  },
  {
   "cell_type": "markdown",
   "metadata": {
    "collapsed": false,
    "jupyter": {
     "outputs_hidden": false
    }
   },
   "source": [
    "Plotting the marginal spectra for each deme, we indeed see that the mean SFS over the first two demes was obtained above."
   ]
  },
  {
   "cell_type": "code",
   "metadata": {
    "collapsed": false,
    "jupyter": {
     "outputs_hidden": false
    },
    "ExecuteTime": {
     "end_time": "2024-06-05T09:14:27.436085Z",
     "start_time": "2024-06-05T09:14:27.184039Z"
    }
   },
   "source": [
    "pg.Spectra({d: coal.sfs.demes[d].mean for d in coal.demography.pop_names}).plot();"
   ],
   "outputs": [
    {
     "data": {
      "text/plain": [
       "<Figure size 440x330 with 0 Axes>"
      ]
     },
     "metadata": {},
     "output_type": "display_data"
    },
    {
     "data": {
      "text/plain": [
       "<Figure size 440x330 with 1 Axes>"
      ],
      "image/png": "[encoded data removed]"
     },
     "metadata": {},
     "output_type": "display_data"
    }
   ],
   "execution_count": 11
  },
  {
   "cell_type": "markdown",
   "metadata": {
    "collapsed": false,
    "jupyter": {
     "outputs_hidden": false
    }
   },
   "source": [
    "Note that we have here used {meth}`~phasegen.distributions.UnfoldedSFSDistribution.moment` of {class}`~phasegen.distributions.UnfoldedSFSDistribution`. This method internally uses a {class}`~phasegen.rewards.ProductReward` to combine the given reward with {class}`~phasegen.rewards.UnfoldedSFSReward` to obtain the SFS for all possible SFS bins. Had we used {meth}`~phasegen.distributions.Coalescent.moment` instead, we would have needed to specify the reward for each SFS bin separately."
   ]
  },
  {
   "cell_type": "code",
   "metadata": {
    "collapsed": false,
    "jupyter": {
     "outputs_hidden": false
    },
    "ExecuteTime": {
     "end_time": "2024-06-05T09:14:27.500324Z",
     "start_time": "2024-06-05T09:14:27.437412Z"
    }
   },
   "source": [
    "demes = pg.SumReward([pg.DemeReward('pop_0'), pg.DemeReward('pop_1')])\n",
    "sfs_bin = pg.UnfoldedSFSReward(2)\n",
    "\n",
    "# take product of SFS reward for second SFS bin with sum of rewards for first two demes\n",
    "assert sfs.data[2] == coal.moment(1, (pg.ProductReward([demes, sfs_bin]),))"
   ],
   "outputs": [],
   "execution_count": 12
  },
  {
   "cell_type": "markdown",
   "metadata": {
    "collapsed": false,
    "jupyter": {
     "outputs_hidden": false
    }
   },
   "source": [
    "## Tracing reward accumulation over time\n",
    "Since rewards are accumulated over time, we can trace their accumulation over time. This can be useful for debugging purposes or to understand how the reward is accrued over time. To this end, we can use {class}`~phasegen.distributions.PhaseTypeDistribution`'s {meth}`~phasegen.distributions.PhaseTypeDistribution.accumulate` and {meth}`~phasegen.distributions.PhaseTypeDistribution.plot_accumulation`. Note that this is different from the CDF, which instead accumulates probability mass over time."
   ]
  },
  {
   "cell_type": "code",
   "metadata": {
    "collapsed": false,
    "jupyter": {
     "outputs_hidden": false
    },
    "ExecuteTime": {
     "end_time": "2024-06-05T09:14:33.900101Z",
     "start_time": "2024-06-05T09:14:27.502012Z"
    }
   },
   "source": [
    "# accumulation of mean SFS over all demes\n",
    "coal.sfs.plot_accumulation(k=1);"
   ],
   "outputs": [
    {
     "data": {
      "text/plain": [
       "<Figure size 440x330 with 1 Axes>"
      ],
      "image/png": "[encoded data removed]"
     },
     "metadata": {},
     "output_type": "display_data"
    }
   ],
   "execution_count": 13
  },
  {
   "cell_type": "markdown",
   "metadata": {
    "collapsed": false,
    "jupyter": {
     "outputs_hidden": false
    }
   },
   "source": [
    "## Adjusting start and end times of reward accumulation\n",
    "By default, rewards are accumulated from time 0 until time of almost sure absorption. We can adjust the start and end times of reward accumulation by specifying the `start_time` and `end_time` arguments to\n",
    "{class}`~phasegen.distributions.Coalescent` or {class}`~phasegen.distributions.PhaseTypeDistribution`'s {meth}`~phasegen.distributions.PhaseTypeDistribution.moment`."
   ]
  },
  {
   "cell_type": "code",
   "metadata": {
    "collapsed": false,
    "jupyter": {
     "outputs_hidden": false
    },
    "ExecuteTime": {
     "end_time": "2024-06-05T09:14:33.910498Z",
     "start_time": "2024-06-05T09:14:33.904291Z"
    }
   },
   "source": [
    "mean1 = pg.Coalescent(n=10, end_time=2).tree_height.mean\n",
    "mean2 = pg.Coalescent(n=10).tree_height.moment(1, end_time=2)\n",
    "\n",
    "assert mean1 == mean2"
   ],
   "outputs": [],
   "execution_count": 14
  }
 ],
 "metadata": {
  "kernelspec": {
   "display_name": "Python 3 (ipykernel)",
   "language": "python",
   "name": "python3"
  },
  "language_info": {
   "codemirror_mode": {
    "name": "ipython",
    "version": 3
   },
   "file_extension": ".py",
   "mimetype": "text/x-python",
   "name": "python",
   "nbconvert_exporter": "python",
   "pygments_lexer": "ipython3",
   "version": "3.10.14"
  }
 },
 "nbformat": 4,
 "nbformat_minor": 4
}
