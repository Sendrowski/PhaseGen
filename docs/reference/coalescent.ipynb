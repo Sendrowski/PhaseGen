{
 "cells": [
  {
   "cell_type": "markdown",
   "source": [
    "# Configuring the coalescent\n",
    "An introduction of how to configure the {class}`~phasegen.coalescent.Coalescent` can be found in the {doc}`quickstart` guide. There are also separate section focussing on configuring the {doc}`demography<demography>` and {doc}`how to obtain more complex moments<rewards>` from the coalescent using rewards. Here we will focus on the remaining points."
   ],
   "metadata": {
    "collapsed": false
   }
  },
  {
   "cell_type": "markdown",
   "source": [
    "## Multiple-merger coalescents"
   ],
   "metadata": {
    "collapsed": false
   }
  },
  {
   "cell_type": "markdown",
   "source": [
    "## Recombination"
   ],
   "metadata": {
    "collapsed": false
   }
  },
  {
   "cell_type": "markdown",
   "source": [
    "## Lineage configuration"
   ],
   "metadata": {
    "collapsed": false
   }
  }
 ],
 "metadata": {
  "kernelspec": {
   "display_name": "Python 3 (ipykernel)",
   "language": "python",
   "name": "python3"
  },
  "language_info": {
   "codemirror_mode": {
    "name": "ipython",
    "version": 3
   },
   "file_extension": ".py",
   "mimetype": "text/x-python",
   "name": "python",
   "nbconvert_exporter": "python",
   "pygments_lexer": "ipython3",
   "version": "3.10.8"
  }
 },
 "nbformat": 4,
 "nbformat_minor": 1
}
