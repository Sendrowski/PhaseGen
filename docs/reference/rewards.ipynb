{
 "cells": [
  {
   "cell_type": "markdown",
   "source": [
    "# Using rewards\n",
    "In order to compute more complex moments such as higher order (cross)-moments that are not directly made available as cached properties of {class}`~phasegen.distributions.PhaseTypeDistribution`, we can specify our own rewards. A {class}`~phasegen.rewards.Reward` is a means of *rewarding* or weighting each state so as to obtain the moments of the quantity of interest. Examples of common rewards are {class}`~phasegen.rewards.TreeHeightReward` and {class}`~phasegen.rewards.TotalBranchLengthReward` or {class}`~phasegen.rewards.UnfoldedSFSReward`. We can use {class}`~phasegen.distributions.PhaseTypeDistribution`'s {meth}`~phasegen.distributions.PhaseTypeDistribution.moment`, which requires a *tuple* of rewards to be specified, whose length equals the order of the moment to be computed."
   ],
   "metadata": {
    "collapsed": false
   }
  },
  {
   "cell_type": "code",
   "outputs": [],
   "source": [
    "import phasegen as pg\n",
    "\n",
    "coal = pg.Coalescent(n=10)"
   ],
   "metadata": {
    "collapsed": false,
    "ExecuteTime": {
     "end_time": "2024-03-29T11:06:46.710276Z",
     "start_time": "2024-03-29T11:06:40.314915Z"
    }
   },
   "execution_count": 1
  },
  {
   "cell_type": "code",
   "outputs": [],
   "source": [
    "# mean tree height\n",
    "assert coal.tree_height.mean == coal.moment(1, (pg.TreeHeightReward(),))"
   ],
   "metadata": {
    "collapsed": false,
    "ExecuteTime": {
     "end_time": "2024-03-29T11:06:46.718467Z",
     "start_time": "2024-03-29T11:06:46.711716Z"
    }
   },
   "execution_count": 2
  },
  {
   "cell_type": "code",
   "outputs": [],
   "source": [
    "# second non-central moment of total branch length\n",
    "assert coal.total_branch_length.m2 == coal.moment(2, (pg.TotalBranchLengthReward(),) * 2)"
   ],
   "metadata": {
    "collapsed": false,
    "ExecuteTime": {
     "end_time": "2024-03-29T11:06:46.723960Z",
     "start_time": "2024-03-29T11:06:46.719534Z"
    }
   },
   "execution_count": 3
  },
  {
   "cell_type": "code",
   "outputs": [],
   "source": [
    "# mean of the 2nd unfolded SFS entry\n",
    "assert coal.sfs.mean.data[2] == coal.moment(1, (pg.UnfoldedSFSReward(2),))"
   ],
   "metadata": {
    "collapsed": false,
    "ExecuteTime": {
     "end_time": "2024-03-29T11:06:46.760802Z",
     "start_time": "2024-03-29T11:06:46.726023Z"
    }
   },
   "execution_count": 4
  },
  {
   "cell_type": "markdown",
   "source": [
    "Note that {meth}`~phasegen.distributions.PhaseTypeDistribution.moment` always returns non-central moments, so we need to center if we want to obtain central moments."
   ],
   "metadata": {
    "collapsed": false
   }
  },
  {
   "cell_type": "code",
   "outputs": [],
   "source": [
    "# variance of tree height\n",
    "var = coal.moment(2, (pg.TreeHeightReward(),) * 2) - coal.moment(1, (pg.TreeHeightReward(),)) ** 2\n",
    "assert var == coal.tree_height.var"
   ],
   "metadata": {
    "collapsed": false,
    "ExecuteTime": {
     "end_time": "2024-03-29T11:06:46.768107Z",
     "start_time": "2024-03-29T11:06:46.761770Z"
    }
   },
   "execution_count": 5
  },
  {
   "cell_type": "markdown",
   "source": [
    "If necessary, we can also compute much higher order (cross)-moments."
   ],
   "metadata": {
    "collapsed": false
   }
  },
  {
   "cell_type": "code",
   "outputs": [
    {
     "data": {
      "text/plain": "293.22909040442306"
     },
     "execution_count": 6,
     "metadata": {},
     "output_type": "execute_result"
    }
   ],
   "source": [
    "# 5th non-central moment of tree height\n",
    "coal.moment(5, (pg.TreeHeightReward(),) * 5)"
   ],
   "metadata": {
    "collapsed": false,
    "ExecuteTime": {
     "end_time": "2024-03-29T11:06:46.775659Z",
     "start_time": "2024-03-29T11:06:46.769095Z"
    }
   },
   "execution_count": 6
  },
  {
   "cell_type": "code",
   "outputs": [
    {
     "data": {
      "text/plain": "0.4952290249433106"
     },
     "execution_count": 7,
     "metadata": {},
     "output_type": "execute_result"
    }
   ],
   "source": [
    "# 3rd non-central moment of 2nd, 3rd and 4th unfolded SFS entries\n",
    "coal.moment(3, (pg.UnfoldedSFSReward(2), pg.UnfoldedSFSReward(3), pg.UnfoldedSFSReward(4)))"
   ],
   "metadata": {
    "collapsed": false,
    "ExecuteTime": {
     "end_time": "2024-03-29T11:06:46.787026Z",
     "start_time": "2024-03-29T11:06:46.776830Z"
    }
   },
   "execution_count": 7
  },
  {
   "cell_type": "markdown",
   "source": [
    "## Combining rewards\n",
    "Sometimes we may want to combine multiple rewards. To this end, we can use {class}`~phasegen.rewards.ProductReward` or {class}`~phasegen.rewards.SumReward`. Let us for example compute the mean SFS over the first 2 out of 3 demes."
   ],
   "metadata": {
    "collapsed": false
   }
  },
  {
   "cell_type": "code",
   "outputs": [],
   "source": [
    "# 3-deme coalescent with symmetric migration\n",
    "coal = pg.Coalescent(\n",
    "    n={'pop_0': 3, 'pop_1': 2, 'pop_2': 0},\n",
    "    demography=pg.Demography(\n",
    "        pop_sizes={'pop_0': 3, 'pop_1': 0.5, 'pop_2': 0.1},\n",
    "        events=[\n",
    "            pg.SymmetricMigrationRateChanges(\n",
    "                pops=['pop_0', 'pop_1', 'pop_2'],\n",
    "                migration_rates=1\n",
    "            )\n",
    "        ]\n",
    "    )\n",
    ")"
   ],
   "metadata": {
    "collapsed": false,
    "ExecuteTime": {
     "end_time": "2024-03-29T11:06:46.790970Z",
     "start_time": "2024-03-29T11:06:46.788079Z"
    }
   },
   "execution_count": 8
  },
  {
   "cell_type": "code",
   "outputs": [
    {
     "data": {
      "text/plain": "<Figure size 512x384 with 0 Axes>"
     },
     "metadata": {},
     "output_type": "display_data"
    },
    {
     "data": {
      "text/plain": "<Figure size 512x384 with 1 Axes>",
      "image/png": "[encoded data removed]"
     },
     "metadata": {},
     "output_type": "display_data"
    }
   ],
   "source": [
    "sfs = coal.sfs.moment(1, (pg.SumReward([pg.DemeReward('pop_0'), pg.DemeReward('pop_1')]),))\n",
    "\n",
    "sfs.plot();"
   ],
   "metadata": {
    "collapsed": false,
    "ExecuteTime": {
     "end_time": "2024-03-29T11:06:46.997830Z",
     "start_time": "2024-03-29T11:06:46.792606Z"
    }
   },
   "execution_count": 9
  },
  {
   "cell_type": "markdown",
   "source": [
    "Plotting the marginal spectra for each deme, we indeed see that the mean SFS over the first two demes was obtained above."
   ],
   "metadata": {
    "collapsed": false
   }
  },
  {
   "cell_type": "code",
   "outputs": [
    {
     "data": {
      "text/plain": "<Figure size 512x384 with 0 Axes>"
     },
     "metadata": {},
     "output_type": "display_data"
    },
    {
     "data": {
      "text/plain": "<Figure size 512x384 with 1 Axes>",
      "image/png": "[encoded data removed]"
     },
     "metadata": {},
     "output_type": "display_data"
    }
   ],
   "source": [
    "pg.Spectra({d: coal.sfs.demes[d].mean for d in coal.demography.pop_names}).plot();"
   ],
   "metadata": {
    "collapsed": false,
    "ExecuteTime": {
     "end_time": "2024-03-29T11:06:47.222Z",
     "start_time": "2024-03-29T11:06:47.000701Z"
    }
   },
   "execution_count": 10
  },
  {
   "cell_type": "markdown",
   "source": [
    "Note that we have here used {meth}`~phasegen.distributions.UnfoldedSFSDistribution.moment` of {class}`~phasegen.distributions.UnfoldedSFSDistribution`. This method internally uses a {class}`~phasegen.rewards.ProductReward` to combine the given reward with {class}`~phasegen.rewards.UnfoldedSFSReward` to obtain the SFS for all possible SFS bins. Had we used {meth}`~phasegen.distributions.Coalescent.moment` instead, we would have needed to specify the reward for each SFS bin separately."
   ],
   "metadata": {
    "collapsed": false
   }
  },
  {
   "cell_type": "code",
   "outputs": [],
   "source": [
    "demes = pg.SumReward([pg.DemeReward('pop_0'), pg.DemeReward('pop_1')])\n",
    "sfs_bin = pg.UnfoldedSFSReward(2)\n",
    "\n",
    "# take product of SFS reward for second SFS bin with sum of rewards for first two demes\n",
    "assert sfs.data[2] == coal.moment(1, (pg.ProductReward([demes, sfs_bin]),))"
   ],
   "metadata": {
    "collapsed": false,
    "ExecuteTime": {
     "end_time": "2024-03-29T11:06:47.237954Z",
     "start_time": "2024-03-29T11:06:47.222854Z"
    }
   },
   "execution_count": 11
  },
  {
   "cell_type": "markdown",
   "source": [
    "## Tracing reward accumulation over time\n",
    "Since rewards are accumulated over time, we can trace their accumulation over time. This can be useful for debugging purposes or to understand how the reward is accrued over time. To this end, we can use {class}`~phasegen.distributions.PhaseTypeDistribution`'s {meth}`~phasegen.distributions.PhaseTypeDistribution.accumulate` and {meth}`~phasegen.distributions.PhaseTypeDistribution.plot_accumulation`. Note that this is different from the CDF, which instead accumulates probability mass over time."
   ],
   "metadata": {
    "collapsed": false
   }
  },
  {
   "cell_type": "code",
   "outputs": [
    {
     "data": {
      "text/plain": "<Figure size 512x384 with 1 Axes>",
      "image/png": "[encoded data removed]"
     },
     "metadata": {},
     "output_type": "display_data"
    }
   ],
   "source": [
    "# accumulation of mean SFS over all demes\n",
    "coal.sfs.plot_accumulation(k=1);"
   ],
   "metadata": {
    "collapsed": false,
    "ExecuteTime": {
     "end_time": "2024-03-29T11:06:50.072917Z",
     "start_time": "2024-03-29T11:06:47.238900Z"
    }
   },
   "execution_count": 12
  },
  {
   "cell_type": "markdown",
   "source": [
    "## Adjusting start and end times of reward accumulation\n",
    "By default, rewards are accumulated from time 0 until time of almost sure absorption. We can adjust the start and end times of reward accumulation by specifying the `start_time` and `end_time` arguments to\n",
    "{class}`~phasegen.distributions.Coalescent` or {class}`~phasegen.distributions.PhaseTypeDistribution`'s {meth}`~phasegen.distributions.PhaseTypeDistribution.moment`."
   ],
   "metadata": {
    "collapsed": false
   }
  },
  {
   "cell_type": "code",
   "outputs": [],
   "source": [
    "mean1 = pg.Coalescent(n=10, end_time=2).tree_height.mean\n",
    "mean2 = pg.Coalescent(n=10).tree_height.moment(1, end_time=2)\n",
    "\n",
    "assert mean1 == mean2"
   ],
   "metadata": {
    "collapsed": false,
    "ExecuteTime": {
     "end_time": "2024-03-29T11:06:50.079278Z",
     "start_time": "2024-03-29T11:06:50.073860Z"
    }
   },
   "execution_count": 13
  }
 ],
 "metadata": {
  "kernelspec": {
   "display_name": "Python 3 (ipykernel)",
   "language": "python",
   "name": "python3"
  },
  "language_info": {
   "codemirror_mode": {
    "name": "ipython",
    "version": 3
   },
   "file_extension": ".py",
   "mimetype": "text/x-python",
   "name": "python",
   "nbconvert_exporter": "python",
   "pygments_lexer": "ipython3",
   "version": "3.10.8"
  }
 },
 "nbformat": 4,
 "nbformat_minor": 1
}
