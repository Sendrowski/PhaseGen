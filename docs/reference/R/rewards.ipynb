{
 "cells": [
  {
   "cell_type": "markdown",
   "metadata": {
    "collapsed": false,
    "jupyter": {
     "outputs_hidden": false
    }
   },
   "source": [
    "# Using rewards\n",
    "In order to compute more complex moments such as higher order (cross)-moments that are not directly made available as cached properties of {class}`~phasegen.distributions.PhaseTypeDistribution`, we can specify our own rewards. A {class}`~phasegen.rewards.Reward` is a means of *rewarding* or weighting each state so as to obtain the moments of the quantity of interest. Examples of common rewards are {class}`~phasegen.rewards.TreeHeightReward` and {class}`~phasegen.rewards.TotalBranchLengthReward` or {class}`~phasegen.rewards.UnfoldedSFSReward`. We can use {class}`~phasegen.distributions.PhaseTypeDistribution`'s {meth}`~phasegen.distributions.PhaseTypeDistribution.moment`, which requires a *tuple* of rewards to be specified, whose length equals the order of the moment to be computed."
   ]
  },
  {
   "cell_type": "code",
   "metadata": {
    "tags": [
     "remove-cell"
    ],
    "ExecuteTime": {
     "end_time": "2024-06-05T09:05:04.226293Z",
     "start_time": "2024-06-05T09:05:03.366127Z"
    }
   },
   "source": [
    "devtools::install_github(\"Sendrowski/PhaseGen\")\n",
    "\n",
    "library(phasegen)\n",
    "\n",
    "setwd(\"~/PycharmProjects/PhaseGen/\")\n",
    "\n",
    "options(\n",
    "  repr.plot.width = 7,\n",
    "  repr.plot.height = 5\n",
    ")"
   ],
   "outputs": [
    {
     "name": "stderr",
     "output_type": "stream",
     "text": [
      "Using GitHub PAT from the git credential store.\n",
      "\n",
      "Skipping install of 'phasegen' from a github remote, the SHA1 (718d8dab) has not changed since last install.\n",
      "  Use `force = TRUE` to force installation\n",
      "\n"
     ]
    }
   ],
   "execution_count": 1
  },
  {
   "cell_type": "code",
   "metadata": {
    "tags": [
     "remove-output"
    ],
    "ExecuteTime": {
     "end_time": "2024-06-05T09:05:17.530517Z",
     "start_time": "2024-06-05T09:05:04.230797Z"
    }
   },
   "source": [
    "library(phasegen)\n",
    "\n",
    "pg <- load_phasegen()"
   ],
   "outputs": [
    {
     "name": "stderr",
     "output_type": "stream",
     "text": [
      "Warning message in poetry_config(required_module):\n",
      "“This project appears to use Poetry for Python dependency management.\n",
      "However, the 'poetry' command line tool is not available.\n",
      "reticulate will be unable to activate this project.\n",
      "Please ensure that 'poetry' is available on the PATH.”\n"
     ]
    }
   ],
   "execution_count": 2
  },
  {
   "cell_type": "code",
   "metadata": {
    "collapsed": false,
    "jupyter": {
     "outputs_hidden": false
    },
    "ExecuteTime": {
     "end_time": "2024-06-05T09:05:17.539519Z",
     "start_time": "2024-06-05T09:05:17.533220Z"
    }
   },
   "source": [
    "coal <- pg$Coalescent(n = 10)"
   ],
   "outputs": [],
   "execution_count": 3
  },
  {
   "metadata": {},
   "cell_type": "markdown",
   "source": "We can explicitly compute the moments made available as cached properties. Note that {meth}`~phasegen.distributions.PhaseTypeDistribution.moment` provides centered moments by default."
  },
  {
   "cell_type": "code",
   "metadata": {
    "collapsed": false,
    "jupyter": {
     "outputs_hidden": false
    },
    "ExecuteTime": {
     "end_time": "2024-06-05T09:05:17.556586Z",
     "start_time": "2024-06-05T09:05:17.541912Z"
    }
   },
   "source": [
    "# mean tree height\n",
    "coal$tree_height$mean == coal$moment(1, c(pg$TreeHeightReward()))"
   ],
   "outputs": [
    {
     "data": {
      "text/html": [
       "TRUE"
      ],
      "text/markdown": "TRUE",
      "text/latex": "TRUE",
      "text/plain": [
       "[1] TRUE"
      ]
     },
     "metadata": {},
     "output_type": "display_data"
    }
   ],
   "execution_count": 4
  },
  {
   "cell_type": "code",
   "metadata": {
    "collapsed": false,
    "jupyter": {
     "outputs_hidden": false
    },
    "ExecuteTime": {
     "end_time": "2024-06-05T09:05:17.569400Z",
     "start_time": "2024-06-05T09:05:17.558790Z"
    }
   },
   "source": [
    "# variance of tree height\n",
    "coal$moment(2, c(pg$TreeHeightReward(), pg$TreeHeightReward())) == coal$tree_height$var"
   ],
   "outputs": [
    {
     "data": {
      "text/html": [
       "TRUE"
      ],
      "text/markdown": "TRUE",
      "text/latex": "TRUE",
      "text/plain": [
       "[1] TRUE"
      ]
     },
     "metadata": {},
     "output_type": "display_data"
    }
   ],
   "execution_count": 5
  },
  {
   "cell_type": "code",
   "metadata": {
    "collapsed": false,
    "jupyter": {
     "outputs_hidden": false
    },
    "ExecuteTime": {
     "end_time": "2024-06-05T09:05:17.581221Z",
     "start_time": "2024-06-05T09:05:17.571820Z"
    }
   },
   "source": [
    "# second non-central moment of total branch length\n",
    "coal$total_branch_length$m2 == coal$moment(2, c(pg$TotalBranchLengthReward(), pg$TotalBranchLengthReward()), center = FALSE)"
   ],
   "outputs": [
    {
     "data": {
      "text/html": [
       "TRUE"
      ],
      "text/markdown": "TRUE",
      "text/latex": "TRUE",
      "text/plain": [
       "[1] TRUE"
      ]
     },
     "metadata": {},
     "output_type": "display_data"
    }
   ],
   "execution_count": 6
  },
  {
   "cell_type": "code",
   "metadata": {
    "collapsed": false,
    "jupyter": {
     "outputs_hidden": false
    },
    "ExecuteTime": {
     "end_time": "2024-06-05T09:05:17.616940Z",
     "start_time": "2024-06-05T09:05:17.583595Z"
    }
   },
   "source": [
    "# mean of the 2nd unfolded SFS entry\n",
    "coal$sfs$mean$data[[3]] == coal$moment(1, c(pg$UnfoldedSFSReward(2)))"
   ],
   "outputs": [
    {
     "data": {
      "text/html": [
       "TRUE"
      ],
      "text/markdown": "TRUE",
      "text/latex": "TRUE",
      "text/plain": [
       "[1] TRUE"
      ]
     },
     "metadata": {},
     "output_type": "display_data"
    }
   ],
   "execution_count": 7
  },
  {
   "cell_type": "markdown",
   "metadata": {
    "collapsed": false,
    "jupyter": {
     "outputs_hidden": false
    }
   },
   "source": [
    "If necessary, we can also compute much higher order (cross)-moments."
   ]
  },
  {
   "cell_type": "code",
   "metadata": {
    "collapsed": false,
    "jupyter": {
     "outputs_hidden": false
    },
    "ExecuteTime": {
     "end_time": "2024-06-05T09:05:17.636833Z",
     "start_time": "2024-06-05T09:05:17.619406Z"
    }
   },
   "source": [
    "# 5th non-central moment of tree height\n",
    "coal$moment(5, lapply(1:5, function(x) pg$TreeHeightReward()))"
   ],
   "outputs": [
    {
     "data": {
      "text/html": [
       "48.2644192710133"
      ],
      "text/markdown": "48.2644192710133",
      "text/latex": "48.2644192710133",
      "text/plain": [
       "[1] 48.26442"
      ]
     },
     "metadata": {},
     "output_type": "display_data"
    }
   ],
   "execution_count": 8
  },
  {
   "cell_type": "code",
   "metadata": {
    "collapsed": false,
    "jupyter": {
     "outputs_hidden": false
    },
    "ExecuteTime": {
     "end_time": "2024-06-05T09:05:17.775698Z",
     "start_time": "2024-06-05T09:05:17.641907Z"
    }
   },
   "source": [
    "# 3rd non-central moment of 2nd, 3rd and 4th unfolded SFS entries\n",
    "coal$moment(3, c(pg$UnfoldedSFSReward(2), pg$UnfoldedSFSReward(3), pg$UnfoldedSFSReward(4)))"
   ],
   "outputs": [
    {
     "data": {
      "text/html": [
       "0.00553877071110631"
      ],
      "text/markdown": "0.00553877071110631",
      "text/latex": "0.00553877071110631",
      "text/plain": [
       "[1] 0.005538771"
      ]
     },
     "metadata": {},
     "output_type": "display_data"
    }
   ],
   "execution_count": 9
  },
  {
   "cell_type": "markdown",
   "metadata": {
    "collapsed": false,
    "jupyter": {
     "outputs_hidden": false
    }
   },
   "source": [
    "## Combining rewards\n",
    "Sometimes we may want to combine multiple rewards. To this end, we can use {class}`~phasegen.rewards.ProductReward` or {class}`~phasegen.rewards.SumReward`. Let us for example compute the mean SFS over the first 2 out of 3 demes."
   ]
  },
  {
   "cell_type": "code",
   "metadata": {
    "collapsed": false,
    "jupyter": {
     "outputs_hidden": false
    },
    "ExecuteTime": {
     "end_time": "2024-06-05T09:05:17.785397Z",
     "start_time": "2024-06-05T09:05:17.778389Z"
    }
   },
   "source": [
    "# 3-deme coalescent with symmetric migration\n",
    "coal <- pg$Coalescent(\n",
    "    n = list(pop_0 = 3, pop_1 = 2, pop_2 = 0),\n",
    "    demography = pg$Demography(\n",
    "        pop_sizes = list(pop_0 = 3, pop_1 = 0.5, pop_2 = 0.1),\n",
    "        events = c(\n",
    "            pg$SymmetricMigrationRateChanges(\n",
    "                pops = c('pop_0', 'pop_1', 'pop_2'),\n",
    "                rate = 1\n",
    "            )\n",
    "        )\n",
    "    )\n",
    ")"
   ],
   "outputs": [],
   "execution_count": 10
  },
  {
   "cell_type": "code",
   "metadata": {
    "collapsed": false,
    "jupyter": {
     "outputs_hidden": false
    },
    "ExecuteTime": {
     "end_time": "2024-06-05T09:05:17.941787Z",
     "start_time": "2024-06-05T09:05:17.788362Z"
    }
   },
   "source": [
    "sfs <- coal$sfs$moment(1, c(pg$SumReward(c(pg$DemeReward('pop_0'), pg$DemeReward('pop_1')))))\n",
    "\n",
    "barplot(sfs$data, main = 'SFS')"
   ],
   "outputs": [
    {
     "data": {
      "text/plain": [
       "Plot with title “SFS”"
      ],
      "image/png": "[encoded data removed]"
     },
     "metadata": {
      "image/png": {
       "width": 420,
       "height": 300
      }
     },
     "output_type": "display_data"
    }
   ],
   "execution_count": 11
  },
  {
   "cell_type": "markdown",
   "metadata": {
    "collapsed": false,
    "jupyter": {
     "outputs_hidden": false
    }
   },
   "source": [
    "Note that we have here used {meth}`~phasegen.distributions.UnfoldedSFSDistribution.moment` of {class}`~phasegen.distributions.UnfoldedSFSDistribution`. This method internally uses a {class}`~phasegen.rewards.ProductReward` to combine the given reward with {class}`~phasegen.rewards.UnfoldedSFSReward` to obtain the SFS for all possible SFS bins. Had we used {meth}`~phasegen.distributions.Coalescent.moment` instead, we would have needed to specify the reward for each SFS bin separately."
   ]
  },
  {
   "cell_type": "code",
   "metadata": {
    "collapsed": false,
    "jupyter": {
     "outputs_hidden": false
    },
    "ExecuteTime": {
     "end_time": "2024-06-05T09:05:17.968427Z",
     "start_time": "2024-06-05T09:05:17.944201Z"
    }
   },
   "source": [
    "demes <- pg$SumReward(c(pg$DemeReward('pop_0'), pg$DemeReward('pop_1')))\n",
    "sfs_bin <- pg$UnfoldedSFSReward(2)\n",
    "\n",
    "# take product of SFS reward for second SFS bin with sum of rewards for first two demes\n",
    "sfs$data[[3]] == coal$moment(1, c(pg$ProductReward(c(demes, sfs_bin))))"
   ],
   "outputs": [
    {
     "data": {
      "text/html": [
       "TRUE"
      ],
      "text/markdown": "TRUE",
      "text/latex": "TRUE",
      "text/plain": [
       "[1] TRUE"
      ]
     },
     "metadata": {},
     "output_type": "display_data"
    }
   ],
   "execution_count": 12
  },
  {
   "cell_type": "markdown",
   "metadata": {
    "collapsed": false,
    "jupyter": {
     "outputs_hidden": false
    }
   },
   "source": [
    "## Tracing reward accumulation over time\n",
    "Since rewards are accumulated over time, we can trace their accumulation over time. This can be useful for debugging purposes or to understand how the reward is accrued over time. To this end, we can use {class}`~phasegen.distributions.PhaseTypeDistribution`'s {meth}`~phasegen.distributions.PhaseTypeDistribution.accumulate` and {meth}`~phasegen.distributions.PhaseTypeDistribution.plot_accumulation`. Note that this is different from the CDF, which instead accumulates probability mass over time."
   ]
  },
  {
   "cell_type": "code",
   "metadata": {
    "collapsed": false,
    "jupyter": {
     "outputs_hidden": false
    },
    "ExecuteTime": {
     "end_time": "2024-06-05T09:05:18.828902Z",
     "start_time": "2024-06-05T09:05:17.970779Z"
    }
   },
   "source": [
    "# accumulation of mean SFS over all demes\n",
    "coal$sfs$accumulate(k = 1, end_times = 0:8)"
   ],
   "outputs": [
    {
     "data": {
      "text/html": [
       "<table class=\"dataframe\">\n",
       "<caption>A matrix: 6 × 9 of type dbl</caption>\n",
       "<tbody>\n",
       "\t<tr><td>0</td><td>0.00000000</td><td>0.0000000</td><td>0.0000000</td><td>0.0000000</td><td>0.0000000</td><td>0.0000000</td><td>0.0000000</td><td>0.0000000</td></tr>\n",
       "\t<tr><td>0</td><td>2.71071621</td><td>3.5215679</td><td>3.8661238</td><td>4.0388454</td><td>4.1317097</td><td>4.1830456</td><td>4.2117258</td><td>4.2278121</td></tr>\n",
       "\t<tr><td>0</td><td>0.63824486</td><td>1.1380923</td><td>1.4015464</td><td>1.5445715</td><td>1.6238582</td><td>1.6681967</td><td>1.6930741</td><td>1.7070495</td></tr>\n",
       "\t<tr><td>0</td><td>0.20713969</td><td>0.5569246</td><td>0.7892993</td><td>0.9259031</td><td>1.0038627</td><td>1.0479269</td><td>1.0727475</td><td>1.0867113</td></tr>\n",
       "\t<tr><td>0</td><td>0.07277186</td><td>0.3307095</td><td>0.5608889</td><td>0.7099682</td><td>0.7979459</td><td>0.8482717</td><td>0.8767432</td><td>0.8927864</td></tr>\n",
       "\t<tr><td>0</td><td>0.00000000</td><td>0.0000000</td><td>0.0000000</td><td>0.0000000</td><td>0.0000000</td><td>0.0000000</td><td>0.0000000</td><td>0.0000000</td></tr>\n",
       "</tbody>\n",
       "</table>\n"
      ],
      "text/markdown": "\nA matrix: 6 × 9 of type dbl\n\n| 0 | 0.00000000 | 0.0000000 | 0.0000000 | 0.0000000 | 0.0000000 | 0.0000000 | 0.0000000 | 0.0000000 |\n| 0 | 2.71071621 | 3.5215679 | 3.8661238 | 4.0388454 | 4.1317097 | 4.1830456 | 4.2117258 | 4.2278121 |\n| 0 | 0.63824486 | 1.1380923 | 1.4015464 | 1.5445715 | 1.6238582 | 1.6681967 | 1.6930741 | 1.7070495 |\n| 0 | 0.20713969 | 0.5569246 | 0.7892993 | 0.9259031 | 1.0038627 | 1.0479269 | 1.0727475 | 1.0867113 |\n| 0 | 0.07277186 | 0.3307095 | 0.5608889 | 0.7099682 | 0.7979459 | 0.8482717 | 0.8767432 | 0.8927864 |\n| 0 | 0.00000000 | 0.0000000 | 0.0000000 | 0.0000000 | 0.0000000 | 0.0000000 | 0.0000000 | 0.0000000 |\n\n",
      "text/latex": "A matrix: 6 × 9 of type dbl\n\\begin{tabular}{lllllllll}\n\t 0 & 0.00000000 & 0.0000000 & 0.0000000 & 0.0000000 & 0.0000000 & 0.0000000 & 0.0000000 & 0.0000000\\\\\n\t 0 & 2.71071621 & 3.5215679 & 3.8661238 & 4.0388454 & 4.1317097 & 4.1830456 & 4.2117258 & 4.2278121\\\\\n\t 0 & 0.63824486 & 1.1380923 & 1.4015464 & 1.5445715 & 1.6238582 & 1.6681967 & 1.6930741 & 1.7070495\\\\\n\t 0 & 0.20713969 & 0.5569246 & 0.7892993 & 0.9259031 & 1.0038627 & 1.0479269 & 1.0727475 & 1.0867113\\\\\n\t 0 & 0.07277186 & 0.3307095 & 0.5608889 & 0.7099682 & 0.7979459 & 0.8482717 & 0.8767432 & 0.8927864\\\\\n\t 0 & 0.00000000 & 0.0000000 & 0.0000000 & 0.0000000 & 0.0000000 & 0.0000000 & 0.0000000 & 0.0000000\\\\\n\\end{tabular}\n",
      "text/plain": [
       "     [,1] [,2]       [,3]      [,4]      [,5]      [,6]      [,7]     \n",
       "[1,] 0    0.00000000 0.0000000 0.0000000 0.0000000 0.0000000 0.0000000\n",
       "[2,] 0    2.71071621 3.5215679 3.8661238 4.0388454 4.1317097 4.1830456\n",
       "[3,] 0    0.63824486 1.1380923 1.4015464 1.5445715 1.6238582 1.6681967\n",
       "[4,] 0    0.20713969 0.5569246 0.7892993 0.9259031 1.0038627 1.0479269\n",
       "[5,] 0    0.07277186 0.3307095 0.5608889 0.7099682 0.7979459 0.8482717\n",
       "[6,] 0    0.00000000 0.0000000 0.0000000 0.0000000 0.0000000 0.0000000\n",
       "     [,8]      [,9]     \n",
       "[1,] 0.0000000 0.0000000\n",
       "[2,] 4.2117258 4.2278121\n",
       "[3,] 1.6930741 1.7070495\n",
       "[4,] 1.0727475 1.0867113\n",
       "[5,] 0.8767432 0.8927864\n",
       "[6,] 0.0000000 0.0000000"
      ]
     },
     "metadata": {},
     "output_type": "display_data"
    }
   ],
   "execution_count": 13
  },
  {
   "cell_type": "markdown",
   "metadata": {
    "collapsed": false,
    "jupyter": {
     "outputs_hidden": false
    }
   },
   "source": [
    "## Adjusting start and end times of reward accumulation\n",
    "By default, rewards are accumulated from time 0 until time of almost sure absorption. We can adjust the start and end times of reward accumulation by specifying the `start_time` and `end_time` arguments to\n",
    "{class}`~phasegen.distributions.Coalescent` or {class}`~phasegen.distributions.PhaseTypeDistribution`'s {meth}`~phasegen.distributions.PhaseTypeDistribution.moment`."
   ]
  },
  {
   "cell_type": "code",
   "metadata": {
    "collapsed": false,
    "jupyter": {
     "outputs_hidden": false
    },
    "ExecuteTime": {
     "end_time": "2024-06-05T09:05:18.843441Z",
     "start_time": "2024-06-05T09:05:18.831351Z"
    }
   },
   "source": [
    "mean1 <- pg$Coalescent(n = 10, end_time = 2)$tree_height$mean\n",
    "mean2 <- pg$Coalescent(n = 10)$tree_height$moment(1, end_time = 2)\n",
    "\n",
    "mean1 == mean2"
   ],
   "outputs": [
    {
     "data": {
      "text/html": [
       "TRUE"
      ],
      "text/markdown": "TRUE",
      "text/latex": "TRUE",
      "text/plain": [
       "[1] TRUE"
      ]
     },
     "metadata": {},
     "output_type": "display_data"
    }
   ],
   "execution_count": 14
  }
 ],
 "metadata": {
  "kernelspec": {
   "display_name": "R",
   "language": "R",
   "name": "ir"
  },
  "language_info": {
   "codemirror_mode": "r",
   "file_extension": ".r",
   "mimetype": "text/x-r-source",
   "name": "R",
   "pygments_lexer": "r",
   "version": "4.3.3"
  }
 },
 "nbformat": 4,
 "nbformat_minor": 4
}
