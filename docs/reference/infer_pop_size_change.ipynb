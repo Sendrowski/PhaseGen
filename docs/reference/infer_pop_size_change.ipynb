{
 "cells": [
  {
   "cell_type": "markdown",
   "source": [
    "# Inference of 2-epoch demography"
   ],
   "metadata": {
    "collapsed": false
   }
  },
  {
   "cell_type": "code",
   "execution_count": 1,
   "metadata": {
    "collapsed": true,
    "ExecuteTime": {
     "end_time": "2023-07-09T15:55:40.713381Z",
     "start_time": "2023-07-09T15:55:38.723662Z"
    }
   },
   "outputs": [
    {
     "name": "stderr",
     "output_type": "stream",
     "text": [
      "Optimizing loss function: 0it [00:00, ?it/s]"
     ]
    },
    {
     "name": "stdout",
     "output_type": "stream",
     "text": [
      "  message: CONVERGENCE: NORM_OF_PROJECTED_GRADIENT_<=_PGTOL\n",
      "  success: True\n",
      "   status: 0\n",
      "      fun: 2.378384513907724\n",
      "        x: [ 1.454e-01  4.813e-01]\n",
      "      nit: 10\n",
      "      jac: [-1.688e-06 -2.354e-06]\n",
      "     nfev: 63\n",
      "     njev: 21\n",
      " hess_inv: <2x2 LbfgsInvHessProduct with dtype=float64>\n"
     ]
    },
    {
     "data": {
      "text/plain": "{'t': 0.1454372907367337, 'Ne': 0.48132364575528974}"
     },
     "execution_count": 1,
     "metadata": {},
     "output_type": "execute_result"
    }
   ],
   "source": [
    "import phasegen as pg\n",
    "\n",
    "observed = pg.SFS([177130, 997, 441, 228, 156, 117, 114, 83, 105, 109, 652])\n",
    "\n",
    "inf = pg.Inference(\n",
    "    x0=dict(t=1, Ne=1),\n",
    "    bounds=dict(t=(0, 4), Ne=(0.1, 1)),\n",
    "    loss=lambda t, Ne: (\n",
    "        pg.PoissonLikelihood().compute(\n",
    "            observed=observed.normalize().polymorphic,\n",
    "            modelled=pg.PiecewiseConstantPopSizeCoalescent(\n",
    "                n=10,\n",
    "                demography=pg.PiecewiseConstantDemography(\n",
    "                    pop_sizes=[1, Ne],\n",
    "                    times=[0, t]\n",
    "                ),\n",
    "                pbar=False,\n",
    "                parallelize=False\n",
    "            ).sfs.mean.normalize().polymorphic\n",
    "        )\n",
    "    ),\n",
    "    pbar=False\n",
    ")\n",
    "\n",
    "inf.run()\n",
    "\n",
    "print(inf.result)\n",
    "\n",
    "inf.params_inferred"
   ]
  },
  {
   "cell_type": "code",
   "execution_count": 1,
   "outputs": [],
   "source": [],
   "metadata": {
    "collapsed": false,
    "ExecuteTime": {
     "end_time": "2023-07-09T15:55:40.717465Z",
     "start_time": "2023-07-09T15:55:40.715313Z"
    }
   }
  }
 ],
 "metadata": {
  "kernelspec": {
   "display_name": "Python 3",
   "language": "python",
   "name": "python3"
  },
  "language_info": {
   "codemirror_mode": {
    "name": "ipython",
    "version": 2
   },
   "file_extension": ".py",
   "mimetype": "text/x-python",
   "name": "python",
   "nbconvert_exporter": "python",
   "pygments_lexer": "ipython2",
   "version": "2.7.6"
  }
 },
 "nbformat": 4,
 "nbformat_minor": 0
}
