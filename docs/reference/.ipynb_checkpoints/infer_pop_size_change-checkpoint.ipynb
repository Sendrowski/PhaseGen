{
 "cells": [
  {
   "cell_type": "markdown",
   "source": [
    "# Inference of 2-epoch demography"
   ],
   "metadata": {
    "collapsed": false
   }
  },
  {
   "cell_type": "code",
   "execution_count": null,
   "metadata": {
    "collapsed": true
   },
   "outputs": [],
   "source": [
    "import phasegen as pg\n",
    "\n",
    "observed = pg.SFS([177130, 997, 441, 228, 156, 117, 114, 83, 105, 109, 652])\n",
    "\n",
    "inf = pg.Inference(\n",
    "    x0=dict(t=1, Ne=1),\n",
    "    bounds=dict(t=(0, 4), Ne=(0.1, 1)),\n",
    "    loss=lambda t, Ne: (\n",
    "        pg.PoissonLikelihood().compute(\n",
    "            observed=observed.normalize().polymorphic,\n",
    "            modelled=pg.PiecewiseConstantPopSizeCoalescent(\n",
    "                n=10,\n",
    "                demography=pg.PiecewiseConstantDemography(\n",
    "                    pop_sizes=[1, Ne],\n",
    "                    times=[0, t]\n",
    "                ),\n",
    "                pbar=False,\n",
    "                parallelize=False\n",
    "            ).sfs.mean.normalize().polymorphic\n",
    "        )\n",
    "    ),\n",
    "    pbar=False\n",
    ")\n",
    "\n",
    "inf.run()\n",
    "\n",
    "print(inf.result)\n",
    "\n",
    "inf.params_inferred"
   ]
  },
  {
   "cell_type": "code",
   "execution_count": null,
   "outputs": [],
   "source": [],
   "metadata": {
    "collapsed": false
   }
  }
 ],
 "metadata": {
  "kernelspec": {
   "display_name": "Python 3",
   "language": "python",
   "name": "python3"
  },
  "language_info": {
   "codemirror_mode": {
    "name": "ipython",
    "version": 2
   },
   "file_extension": ".py",
   "mimetype": "text/x-python",
   "name": "python",
   "nbconvert_exporter": "python",
   "pygments_lexer": "ipython2",
   "version": "2.7.6"
  }
 },
 "nbformat": 4,
 "nbformat_minor": 0
}
