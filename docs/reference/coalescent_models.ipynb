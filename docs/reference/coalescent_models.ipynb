{
 "cells": [
  {
   "cell_type": "markdown",
   "source": [
    "# Different coalescent models\n",
    "Phasegen supports different coalescent models"
   ],
   "metadata": {
    "collapsed": false
   }
  },
  {
   "cell_type": "code",
   "execution_count": 1,
   "metadata": {
    "collapsed": true,
    "ExecuteTime": {
     "end_time": "2023-07-09T15:09:15.035595Z",
     "start_time": "2023-07-09T15:09:08.719481Z"
    }
   },
   "outputs": [],
   "source": [
    "import phasegen as pg\n",
    "\n",
    "# construct coalescent object\n",
    "kingman = pg.PiecewiseConstantPopSizeCoalescent(n=10, model=pg.StandardCoalescent())\n",
    "beta = pg.PiecewiseConstantPopSizeCoalescent(n=10, model=pg.BetaCoalescent(alpha=1.5))"
   ]
  }
 ],
 "metadata": {
  "kernelspec": {
   "display_name": "Python 3",
   "language": "python",
   "name": "python3"
  },
  "language_info": {
   "codemirror_mode": {
    "name": "ipython",
    "version": 2
   },
   "file_extension": ".py",
   "mimetype": "text/x-python",
   "name": "python",
   "nbconvert_exporter": "python",
   "pygments_lexer": "ipython2",
   "version": "2.7.6"
  }
 },
 "nbformat": 4,
 "nbformat_minor": 0
}
